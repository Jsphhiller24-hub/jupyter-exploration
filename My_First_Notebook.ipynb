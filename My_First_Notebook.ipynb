{
 "cells": [
  {
   "cell_type": "markdown",
   "id": "b07cd058-02b0-4f0c-a5c4-fb659cfd3457",
   "metadata": {},
   "source": [
    "### Basic Operations in Jupyter Notebook:"
   ]
  },
  {
   "cell_type": "markdown",
   "id": "d5ce2faf-ccfd-4350-9146-d81b270f2857",
   "metadata": {},
   "source": [
    "### 1. Code Cells:\n",
    "Code cells are where you write and execute your code. They are typically denoted by an input prompt (In [ ]:) followed by a code input area.\n",
    "You can write code in various programming languages such as Python, R, Julia, etc., depending on the kernel you've chosen for your notebook.\n",
    "To execute a code cell, you can press Shift + Enter or click the \"Run\" button in the toolbar."
   ]
  },
  {
   "cell_type": "code",
   "execution_count": 9,
   "id": "41d7ab2e-cdbe-40c8-8d21-1722b3678f69",
   "metadata": {},
   "outputs": [
    {
     "name": "stdout",
     "output_type": "stream",
     "text": [
      "Hello, World!\n"
     ]
    }
   ],
   "source": [
    "# Simple code cell to print \"Hello, World!\"\n",
    "print(\"Hello, World!\")\n"
   ]
  },
  {
   "cell_type": "markdown",
   "id": "86256609-803e-4e66-acca-5e7ac94b0e72",
   "metadata": {},
   "source": [
    "### 2. Markdown Cells:\n",
    "Markdown cells are used for adding formatted text, documentation, or explanations to your notebook. Markdown is a lightweight markup language that allows you to format text without using HTML or other complex formatting languages.\n",
    "Markdown cells are denoted by a markdown prompt (Markdown:) followed by a text input area where you can write Markdown syntax.\n",
    "To render the formatted text in a markdown cell, you can again press Shift + Enter or click the \"Run\" button."
   ]
  },
  {
   "cell_type": "markdown",
   "id": "54da2e89-2e04-4137-9bb9-5fb28e7cdf71",
   "metadata": {},
   "source": [
    "### My first markdown cell in Jupyter\n",
    "\n",
    "This is a simple markdown cell where I can write formatted text using markdown syntax. \n",
    "\n",
    "- Markdown allows me to create bullet lists.\n",
    "- I can also include **bold** or *italic* text.\n",
    "- Additionally, I can include links "
   ]
  }
 ],
 "metadata": {
  "kernelspec": {
   "display_name": "anaconda-panel-2023.05-py310",
   "language": "python",
   "name": "conda-env-anaconda-panel-2023.05-py310-py"
  },
  "language_info": {
   "codemirror_mode": {
    "name": "ipython",
    "version": 3
   },
   "file_extension": ".py",
   "mimetype": "text/x-python",
   "name": "python",
   "nbconvert_exporter": "python",
   "pygments_lexer": "ipython3",
   "version": "3.11.5"
  }
 },
 "nbformat": 4,
 "nbformat_minor": 5
}
